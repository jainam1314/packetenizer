{
 "cells": [
  {
   "cell_type": "code",
   "execution_count": 1,
   "id": "copyrighted-service",
   "metadata": {},
   "outputs": [],
   "source": [
    "from scapy.all import *"
   ]
  },
  {
   "cell_type": "code",
   "execution_count": 3,
   "id": "loose-backing",
   "metadata": {},
   "outputs": [],
   "source": [
    "f = rdpcap('../samples/download.pcap')"
   ]
  },
  {
   "cell_type": "code",
   "execution_count": 7,
   "id": "dramatic-climate",
   "metadata": {},
   "outputs": [],
   "source": [
    "# Below defines rough implementation\n",
    "\n",
    "class CoreStructure:\n",
    "    core_structure = dict()\n",
    "    raw_scapy_packets = None\n",
    "    \n",
    "    def __init__(self, scapy_packets):\n",
    "        # We are assuming scapy_packets is a perfectly valid scapy packet structure\n",
    "        self.raw_scapy_packets = scapy_packets\n",
    "        \n",
    "    def start(self):\n",
    "        for packet in self.raw_scapy_packets[:50]:\n",
    "            l3 = ''\n",
    "            l4 = ''\n",
    "            s_ip_addr = None\n",
    "            d_ip_addr = None\n",
    "            s_port = None\n",
    "            d_port = None\n",
    "            if packet.getlayer(1).name == 'IP':\n",
    "                l3 = 'IPv4'\n",
    "                s_ip_addr = packet.getlayer(1).src\n",
    "                d_ip_addr = packet.getlayer(1).dst\n",
    "                if packet.getlayer(2).name and packet.getlayer(2).name == 'TCP':\n",
    "                    l4_packet = packet.getlayer(2) # Storing reference\n",
    "                    l4 = l4_packet.name\n",
    "                    s_port = getattr(l4_packet, 'sport')\n",
    "                    d_port = getattr(l4_packet, 'dport')\n",
    "                    s_socket = f'{s_ip_addr}:{s_port}'\n",
    "                    d_socket = f'{d_ip_addr}:{d_port}'\n",
    "                    # Check if the particular entry exists\n",
    "                    if not (s_socket, d_socket) in self.core_structure:\n",
    "                        # Remember src dest will be reversed in packet but\n",
    "                        # the actual connection is still the same\n",
    "                        # So we are checking if the reverse tuple exists\n",
    "                        if not (d_socket, s_socket) in self.core_structure:\n",
    "                            # If not create a new\n",
    "                            self.core_structure[(s_socket, d_socket)] = {\n",
    "                                \"l2_proto\": packet.name,\n",
    "                                \"l3_proto\": l3,\n",
    "                                \"l4_proto\": l4_packet.name,\n",
    "                                \"seq\": getattr(l4_packet, 'seq'),\n",
    "                                \"up_data\": 0,\n",
    "                                \"down_data\": 0\n",
    "                            }\n",
    "                        else:\n",
    "                            # This is a reverse scenario, so we will have to swap the src dest\n",
    "                            # THIS IS A TEMPORARY FIX\n",
    "                            s_port, d_port = d_port, s_port\n",
    "                            s_ip_addr, d_ip_addr = d_ip_addr, s_ip_addr\n",
    "                            s_socket, d_socket = d_socket, s_socket\n",
    "                    else:\n",
    "                        current_entry = self.core_structure[(s_socket, d_socket)] # Storing reference\n",
    "                        print(current_entry)\n",
    "                        # I am not sure if the below statement will produce correct results\n",
    "                        # So for now this exists and \"kinda\" works but shouldn't be assumed final\n",
    "                        current_entry[\"up_data\"] += getattr(l4_packet, 'seq') - current_entry[\"seq\"]\n",
    "                        # Update\n",
    "                        current_entry[\"seq\"] = getattr(l4_packet, 'seq')"
   ]
  },
  {
   "cell_type": "code",
   "execution_count": 8,
   "id": "checked-voluntary",
   "metadata": {},
   "outputs": [],
   "source": [
    "core_struct = CoreStructure(f)"
   ]
  },
  {
   "cell_type": "code",
   "execution_count": 9,
   "id": "informal-carter",
   "metadata": {},
   "outputs": [
    {
     "name": "stdout",
     "output_type": "stream",
     "text": [
      "{'l2_proto': 'Ethernet', 'l3_proto': 'IPv4', 'l4_proto': 'TCP', 'seq': 3495802807, 'up_data': 0, 'down_data': 0}\n",
      "{'l2_proto': 'Ethernet', 'l3_proto': 'IPv4', 'l4_proto': 'TCP', 'seq': 3495802808, 'up_data': 1, 'down_data': 0}\n",
      "{'l2_proto': 'Ethernet', 'l3_proto': 'IPv4', 'l4_proto': 'TCP', 'seq': 442586608, 'up_data': 0, 'down_data': 0}\n",
      "{'l2_proto': 'Ethernet', 'l3_proto': 'IPv4', 'l4_proto': 'TCP', 'seq': 3495802808, 'up_data': 1, 'down_data': 0}\n",
      "{'l2_proto': 'Ethernet', 'l3_proto': 'IPv4', 'l4_proto': 'TCP', 'seq': 1338928663, 'up_data': 0, 'down_data': 0}\n",
      "{'l2_proto': 'Ethernet', 'l3_proto': 'IPv4', 'l4_proto': 'TCP', 'seq': 4045689038, 'up_data': 0, 'down_data': 0}\n",
      "{'l2_proto': 'Ethernet', 'l3_proto': 'IPv4', 'l4_proto': 'TCP', 'seq': 1338928664, 'up_data': 1, 'down_data': 0}\n",
      "{'l2_proto': 'Ethernet', 'l3_proto': 'IPv4', 'l4_proto': 'TCP', 'seq': 4045689039, 'up_data': 1, 'down_data': 0}\n",
      "{'l2_proto': 'Ethernet', 'l3_proto': 'IPv4', 'l4_proto': 'TCP', 'seq': 1338928664, 'up_data': 1, 'down_data': 0}\n",
      "{'l2_proto': 'Ethernet', 'l3_proto': 'IPv4', 'l4_proto': 'TCP', 'seq': 1338929181, 'up_data': 518, 'down_data': 0}\n",
      "{'l2_proto': 'Ethernet', 'l3_proto': 'IPv4', 'l4_proto': 'TCP', 'seq': 1338929181, 'up_data': 518, 'down_data': 0}\n",
      "{'l2_proto': 'Ethernet', 'l3_proto': 'IPv4', 'l4_proto': 'TCP', 'seq': 4045689039, 'up_data': 1, 'down_data': 0}\n"
     ]
    }
   ],
   "source": [
    "core_struct.start()"
   ]
  },
  {
   "cell_type": "code",
   "execution_count": 10,
   "id": "incorporate-thomas",
   "metadata": {},
   "outputs": [
    {
     "name": "stdout",
     "output_type": "stream",
     "text": [
      "{('192.168.0.104:36026', '172.67.216.140:443'): {'l2_proto': 'Ethernet', 'l3_proto': 'IPv4', 'l4_proto': 'TCP', 'seq': 2540327016, 'up_data': 0, 'down_data': 0}, ('192.168.0.104:54960', '104.17.32.82:443'): {'l2_proto': 'Ethernet', 'l3_proto': 'IPv4', 'l4_proto': 'TCP', 'seq': 740875834, 'up_data': 0, 'down_data': 0}, ('192.168.0.104:60028', '185.199.110.153:80'): {'l2_proto': 'Ethernet', 'l3_proto': 'IPv4', 'l4_proto': 'TCP', 'seq': 3495803229, 'up_data': 422, 'down_data': 0}, ('192.168.0.104:60030', '185.199.110.153:80'): {'l2_proto': 'Ethernet', 'l3_proto': 'IPv4', 'l4_proto': 'TCP', 'seq': 442586609, 'up_data': 1, 'down_data': 0}, ('192.168.0.104:34690', '185.199.108.153:443'): {'l2_proto': 'Ethernet', 'l3_proto': 'IPv4', 'l4_proto': 'TCP', 'seq': 1338929181, 'up_data': 518, 'down_data': 0}, ('192.168.0.104:34692', '185.199.108.153:443'): {'l2_proto': 'Ethernet', 'l3_proto': 'IPv4', 'l4_proto': 'TCP', 'seq': 4045689556, 'up_data': 518, 'down_data': 0}}\n"
     ]
    }
   ],
   "source": [
    "print(core_struct.core_structure)"
   ]
  },
  {
   "cell_type": "markdown",
   "id": "exact-ownership",
   "metadata": {},
   "source": [
    "## Good enough so far 😄"
   ]
  },
  {
   "cell_type": "code",
   "execution_count": 7,
   "id": "peripheral-deposit",
   "metadata": {},
   "outputs": [],
   "source": [
    "f = rdpcap('../samples/download_tcp_problem.pcap')"
   ]
  },
  {
   "cell_type": "code",
   "execution_count": 8,
   "metadata": {},
   "outputs": [
    {
     "output_type": "stream",
     "name": "stdout",
     "text": [
      "DF DF DF DF DF DF DF DF DF DF DF DF DF DF DF DF DF "
     ]
    }
   ],
   "source": [
    "for packet in f:\n",
    "    print(getattr(packet, 'flags'), end=' ')"
   ]
  },
  {
   "cell_type": "code",
   "execution_count": null,
   "metadata": {},
   "outputs": [],
   "source": []
  },
  {
   "cell_type": "code",
   "execution_count": 9,
   "metadata": {},
   "outputs": [
    {
     "output_type": "stream",
     "name": "stdout",
     "text": [
      "S\nSA\nA\nPA\nA\nA\nA\nA\nA\nPA\nA\nPA\nFA\nPA\nR\nFA\nR\n"
     ]
    }
   ],
   "source": [
    "for packet in f:\n",
    "    print(packet['TCP'].flags)"
   ]
  },
  {
   "source": [
    "## DNS Stuff"
   ],
   "cell_type": "markdown",
   "metadata": {}
  },
  {
   "cell_type": "code",
   "execution_count": 12,
   "metadata": {},
   "outputs": [],
   "source": [
    "f = rdpcap('../samples/dns_queries.pcap')"
   ]
  },
  {
   "cell_type": "code",
   "execution_count": 28,
   "metadata": {
    "tags": []
   },
   "outputs": [
    {
     "output_type": "stream",
     "name": "stdout",
     "text": [
      "16\n{'length': None, 'id': 4146, 'qr': 0, 'opcode': 0, 'aa': 0, 'tc': 0, 'rd': 1, 'ra': 0, 'z': 0, 'ad': 0, 'cd': 0, 'rcode': 0, 'qdcount': 1, 'ancount': 0, 'nscount': 0, 'arcount': 0, 'qd': <DNSQR  qname='google.com.' qtype=TXT qclass=IN |>, 'an': None, 'ns': None, 'ar': None}\n16\n{'length': None, 'id': 4146, 'qr': 1, 'opcode': 0, 'aa': 0, 'tc': 0, 'rd': 1, 'ra': 1, 'z': 0, 'ad': 0, 'cd': 0, 'rcode': 0, 'qdcount': 1, 'ancount': 1, 'nscount': 0, 'arcount': 0, 'qd': <DNSQR  qname='google.com.' qtype=TXT qclass=IN |>, 'an': <DNSRR  rrname='google.com.' type=TXT rclass=IN ttl=270 rdlen=None rdata=[b'v=spf1 ptr ?all'] |>, 'ns': None, 'ar': None}\n15\n{'length': None, 'id': 63343, 'qr': 0, 'opcode': 0, 'aa': 0, 'tc': 0, 'rd': 1, 'ra': 0, 'z': 0, 'ad': 0, 'cd': 0, 'rcode': 0, 'qdcount': 1, 'ancount': 0, 'nscount': 0, 'arcount': 0, 'qd': <DNSQR  qname='google.com.' qtype=MX qclass=IN |>, 'an': None, 'ns': None, 'ar': None}\n15\n{'length': None, 'id': 63343, 'qr': 1, 'opcode': 0, 'aa': 0, 'tc': 0, 'rd': 1, 'ra': 1, 'z': 0, 'ad': 0, 'cd': 0, 'rcode': 0, 'qdcount': 1, 'ancount': 6, 'nscount': 0, 'arcount': 6, 'qd': <DNSQR  qname='google.com.' qtype=MX qclass=IN |>, 'an': <DNSRRMX  rrname='google.com.' type=MX rclass=IN ttl=552 rdlen=None preference=40 exchange='smtp4.google.com.' |<DNSRRMX  rrname='google.com.' type=MX rclass=IN ttl=552 rdlen=None preference=10 exchange='smtp5.google.com.' |<DNSRRMX  rrname='google.com.' type=MX rclass=IN ttl=552 rdlen=None preference=10 exchange='smtp6.google.com.' |<DNSRRMX  rrname='google.com.' type=MX rclass=IN ttl=552 rdlen=None preference=10 exchange='smtp1.google.com.' |<DNSRRMX  rrname='google.com.' type=MX rclass=IN ttl=552 rdlen=None preference=10 exchange='smtp2.google.com.' |<DNSRRMX  rrname='google.com.' type=MX rclass=IN ttl=552 rdlen=None preference=40 exchange='smtp3.google.com.' |>>>>>>, 'ns': None, 'ar': <DNSRR  rrname='smtp4.google.com.' type=A rclass=IN ttl=600 rdlen=None rdata=216.239.37.26 |<DNSRR  rrname='smtp5.google.com.' type=A rclass=IN ttl=600 rdlen=None rdata=64.233.167.25 |<DNSRR  rrname='smtp6.google.com.' type=A rclass=IN ttl=600 rdlen=None rdata=66.102.9.25 |<DNSRR  rrname='smtp1.google.com.' type=A rclass=IN ttl=600 rdlen=None rdata=216.239.57.25 |<DNSRR  rrname='smtp2.google.com.' type=A rclass=IN ttl=600 rdlen=None rdata=216.239.37.25 |<DNSRR  rrname='smtp3.google.com.' type=A rclass=IN ttl=600 rdlen=None rdata=216.239.57.26 |>>>>>>}\n29\n{'length': None, 'id': 18849, 'qr': 0, 'opcode': 0, 'aa': 0, 'tc': 0, 'rd': 1, 'ra': 0, 'z': 0, 'ad': 0, 'cd': 0, 'rcode': 0, 'qdcount': 1, 'ancount': 0, 'nscount': 0, 'arcount': 0, 'qd': <DNSQR  qname='google.com.' qtype=LOC qclass=IN |>, 'an': None, 'ns': None, 'ar': None}\n29\n{'length': None, 'id': 18849, 'qr': 1, 'opcode': 0, 'aa': 0, 'tc': 0, 'rd': 1, 'ra': 1, 'z': 0, 'ad': 0, 'cd': 0, 'rcode': 0, 'qdcount': 1, 'ancount': 0, 'nscount': 0, 'arcount': 0, 'qd': <DNSQR  qname='google.com.' qtype=LOC qclass=IN |>, 'an': None, 'ns': None, 'ar': None}\n12\n{'length': None, 'id': 39867, 'qr': 0, 'opcode': 0, 'aa': 0, 'tc': 0, 'rd': 1, 'ra': 0, 'z': 0, 'ad': 0, 'cd': 0, 'rcode': 0, 'qdcount': 1, 'ancount': 0, 'nscount': 0, 'arcount': 0, 'qd': <DNSQR  qname='104.9.192.66.in-addr.arpa.' qtype=PTR qclass=IN |>, 'an': None, 'ns': None, 'ar': None}\n12\n{'length': None, 'id': 39867, 'qr': 1, 'opcode': 0, 'aa': 0, 'tc': 0, 'rd': 1, 'ra': 1, 'z': 0, 'ad': 0, 'cd': 0, 'rcode': 0, 'qdcount': 1, 'ancount': 1, 'nscount': 0, 'arcount': 0, 'qd': <DNSQR  qname='104.9.192.66.in-addr.arpa.' qtype=PTR qclass=IN |>, 'an': <DNSRR  rrname='104.9.192.66.in-addr.arpa.' type=PTR rclass=IN ttl=86309 rdlen=None rdata='66-192-9-104.gen.twtelecom.net.' |>, 'ns': None, 'ar': None}\n1\n{'length': None, 'id': 30144, 'qr': 0, 'opcode': 0, 'aa': 0, 'tc': 0, 'rd': 1, 'ra': 0, 'z': 0, 'ad': 0, 'cd': 0, 'rcode': 0, 'qdcount': 1, 'ancount': 0, 'nscount': 0, 'arcount': 0, 'qd': <DNSQR  qname='www.netbsd.org.' qtype=A qclass=IN |>, 'an': None, 'ns': None, 'ar': None}\n1\n{'length': None, 'id': 30144, 'qr': 1, 'opcode': 0, 'aa': 0, 'tc': 0, 'rd': 1, 'ra': 1, 'z': 0, 'ad': 0, 'cd': 0, 'rcode': 0, 'qdcount': 1, 'ancount': 1, 'nscount': 0, 'arcount': 0, 'qd': <DNSQR  qname='www.netbsd.org.' qtype=A qclass=IN |>, 'an': <DNSRR  rrname='www.netbsd.org.' type=A rclass=IN ttl=82159 rdlen=None rdata=204.152.190.12 |>, 'ns': None, 'ar': None}\n28\n{'length': None, 'id': 61652, 'qr': 0, 'opcode': 0, 'aa': 0, 'tc': 0, 'rd': 1, 'ra': 0, 'z': 0, 'ad': 0, 'cd': 0, 'rcode': 0, 'qdcount': 1, 'ancount': 0, 'nscount': 0, 'arcount': 0, 'qd': <DNSQR  qname='www.netbsd.org.' qtype=AAAA qclass=IN |>, 'an': None, 'ns': None, 'ar': None}\n28\n{'length': None, 'id': 61652, 'qr': 1, 'opcode': 0, 'aa': 0, 'tc': 0, 'rd': 1, 'ra': 1, 'z': 0, 'ad': 0, 'cd': 0, 'rcode': 0, 'qdcount': 1, 'ancount': 1, 'nscount': 0, 'arcount': 0, 'qd': <DNSQR  qname='www.netbsd.org.' qtype=AAAA qclass=IN |>, 'an': <DNSRR  rrname='www.netbsd.org.' type=AAAA rclass=IN ttl=86400 rdlen=None rdata=2001:4f8:4:7:2e0:81ff:fe52:9a6b |>, 'ns': None, 'ar': None}\n28\n{'length': None, 'id': 32569, 'qr': 0, 'opcode': 0, 'aa': 0, 'tc': 0, 'rd': 1, 'ra': 0, 'z': 0, 'ad': 0, 'cd': 0, 'rcode': 0, 'qdcount': 1, 'ancount': 0, 'nscount': 0, 'arcount': 0, 'qd': <DNSQR  qname='www.netbsd.org.' qtype=AAAA qclass=IN |>, 'an': None, 'ns': None, 'ar': None}\n28\n{'length': None, 'id': 32569, 'qr': 1, 'opcode': 0, 'aa': 0, 'tc': 0, 'rd': 1, 'ra': 1, 'z': 0, 'ad': 0, 'cd': 0, 'rcode': 0, 'qdcount': 1, 'ancount': 1, 'nscount': 0, 'arcount': 0, 'qd': <DNSQR  qname='www.netbsd.org.' qtype=AAAA qclass=IN |>, 'an': <DNSRR  rrname='www.netbsd.org.' type=AAAA rclass=IN ttl=86340 rdlen=None rdata=2001:4f8:4:7:2e0:81ff:fe52:9a6b |>, 'ns': None, 'ar': None}\n28\n{'length': None, 'id': 36275, 'qr': 0, 'opcode': 0, 'aa': 0, 'tc': 0, 'rd': 1, 'ra': 0, 'z': 0, 'ad': 0, 'cd': 0, 'rcode': 0, 'qdcount': 1, 'ancount': 0, 'nscount': 0, 'arcount': 0, 'qd': <DNSQR  qname='www.google.com.' qtype=AAAA qclass=IN |>, 'an': None, 'ns': None, 'ar': None}\n28\n{'length': None, 'id': 36275, 'qr': 1, 'opcode': 0, 'aa': 0, 'tc': 0, 'rd': 1, 'ra': 1, 'z': 0, 'ad': 0, 'cd': 0, 'rcode': 0, 'qdcount': 1, 'ancount': 1, 'nscount': 0, 'arcount': 0, 'qd': <DNSQR  qname='www.google.com.' qtype=AAAA qclass=IN |>, 'an': <DNSRR  rrname='www.google.com.' type=CNAME rclass=IN ttl=633 rdlen=None rdata='www.l.google.com.' |>, 'ns': None, 'ar': None}\n28\n{'length': None, 'id': 56482, 'qr': 0, 'opcode': 0, 'aa': 0, 'tc': 0, 'rd': 1, 'ra': 0, 'z': 0, 'ad': 0, 'cd': 0, 'rcode': 0, 'qdcount': 1, 'ancount': 0, 'nscount': 0, 'arcount': 0, 'qd': <DNSQR  qname='www.l.google.com.' qtype=AAAA qclass=IN |>, 'an': None, 'ns': None, 'ar': None}\n28\n{'length': None, 'id': 56482, 'qr': 1, 'opcode': 0, 'aa': 0, 'tc': 0, 'rd': 1, 'ra': 1, 'z': 0, 'ad': 0, 'cd': 0, 'rcode': 0, 'qdcount': 1, 'ancount': 0, 'nscount': 0, 'arcount': 0, 'qd': <DNSQR  qname='www.l.google.com.' qtype=AAAA qclass=IN |>, 'an': None, 'ns': None, 'ar': None}\n28\n{'length': None, 'id': 48159, 'qr': 0, 'opcode': 0, 'aa': 0, 'tc': 0, 'rd': 1, 'ra': 0, 'z': 0, 'ad': 0, 'cd': 0, 'rcode': 0, 'qdcount': 1, 'ancount': 0, 'nscount': 0, 'arcount': 0, 'qd': <DNSQR  qname='www.example.com.' qtype=AAAA qclass=IN |>, 'an': None, 'ns': None, 'ar': None}\n28\n{'length': None, 'id': 48159, 'qr': 1, 'opcode': 0, 'aa': 0, 'tc': 0, 'rd': 1, 'ra': 1, 'z': 0, 'ad': 0, 'cd': 0, 'rcode': 0, 'qdcount': 1, 'ancount': 0, 'nscount': 0, 'arcount': 0, 'qd': <DNSQR  qname='www.example.com.' qtype=AAAA qclass=IN |>, 'an': None, 'ns': None, 'ar': None}\n28\n{'length': None, 'id': 9837, 'qr': 0, 'opcode': 0, 'aa': 0, 'tc': 0, 'rd': 1, 'ra': 0, 'z': 0, 'ad': 0, 'cd': 0, 'rcode': 0, 'qdcount': 1, 'ancount': 0, 'nscount': 0, 'arcount': 0, 'qd': <DNSQR  qname='www.example.notginh.' qtype=AAAA qclass=IN |>, 'an': None, 'ns': None, 'ar': None}\n28\n{'length': None, 'id': 9837, 'qr': 1, 'opcode': 0, 'aa': 1, 'tc': 0, 'rd': 1, 'ra': 1, 'z': 0, 'ad': 0, 'cd': 0, 'rcode': 3, 'qdcount': 1, 'ancount': 0, 'nscount': 0, 'arcount': 0, 'qd': <DNSQR  qname='www.example.notginh.' qtype=AAAA qclass=IN |>, 'an': None, 'ns': None, 'ar': None}\n255\n{'length': None, 'id': 65251, 'qr': 0, 'opcode': 0, 'aa': 0, 'tc': 0, 'rd': 1, 'ra': 0, 'z': 0, 'ad': 0, 'cd': 0, 'rcode': 0, 'qdcount': 1, 'ancount': 0, 'nscount': 0, 'arcount': 0, 'qd': <DNSQR  qname='www.isc.org.' qtype=ALL qclass=IN |>, 'an': None, 'ns': None, 'ar': None}\n255\n{'length': None, 'id': 65251, 'qr': 1, 'opcode': 0, 'aa': 0, 'tc': 0, 'rd': 1, 'ra': 1, 'z': 0, 'ad': 0, 'cd': 0, 'rcode': 0, 'qdcount': 1, 'ancount': 2, 'nscount': 0, 'arcount': 0, 'qd': <DNSQR  qname='www.isc.org.' qtype=ALL qclass=IN |>, 'an': <DNSRR  rrname='www.isc.org.' type=AAAA rclass=IN ttl=600 rdlen=None rdata=2001:4f8:0:2::d |<DNSRR  rrname='www.isc.org.' type=A rclass=IN ttl=600 rdlen=None rdata=204.152.184.88 |>>, 'ns': None, 'ar': None}\n12\n{'length': None, 'id': 23123, 'qr': 0, 'opcode': 0, 'aa': 0, 'tc': 0, 'rd': 1, 'ra': 0, 'z': 0, 'ad': 0, 'cd': 0, 'rcode': 0, 'qdcount': 1, 'ancount': 0, 'nscount': 0, 'arcount': 0, 'qd': <DNSQR  qname='1.0.0.127.in-addr.arpa.' qtype=PTR qclass=IN |>, 'an': None, 'ns': None, 'ar': None}\n12\n{'length': None, 'id': 23123, 'qr': 1, 'opcode': 0, 'aa': 1, 'tc': 0, 'rd': 1, 'ra': 1, 'z': 0, 'ad': 0, 'cd': 0, 'rcode': 0, 'qdcount': 1, 'ancount': 1, 'nscount': 0, 'arcount': 0, 'qd': <DNSQR  qname='1.0.0.127.in-addr.arpa.' qtype=PTR qclass=IN |>, 'an': <DNSRR  rrname='1.0.0.127.in-addr.arpa.' type=PTR rclass=IN ttl=3600 rdlen=None rdata='localhost.' |>, 'ns': None, 'ar': None}\n2\n{'length': None, 'id': 8330, 'qr': 0, 'opcode': 0, 'aa': 0, 'tc': 0, 'rd': 1, 'ra': 0, 'z': 0, 'ad': 0, 'cd': 0, 'rcode': 0, 'qdcount': 1, 'ancount': 0, 'nscount': 0, 'arcount': 0, 'qd': <DNSQR  qname='isc.org.' qtype=NS qclass=IN |>, 'an': None, 'ns': None, 'ar': None}\n33\n{'length': None, 'id': 12910, 'qr': 0, 'opcode': 0, 'aa': 0, 'tc': 0, 'rd': 1, 'ra': 0, 'z': 0, 'ad': 0, 'cd': 0, 'rcode': 0, 'qdcount': 1, 'ancount': 0, 'nscount': 0, 'arcount': 0, 'qd': <DNSQR  qname='_ldap._tcp.Default-First-Site-Name._sites.dc._msdcs.utelsystems.local.' qtype=SRV qclass=IN |>, 'an': None, 'ns': None, 'ar': None}\n2\n{'length': None, 'id': 8330, 'qr': 1, 'opcode': 0, 'aa': 0, 'tc': 0, 'rd': 1, 'ra': 1, 'z': 0, 'ad': 0, 'cd': 0, 'rcode': 0, 'qdcount': 1, 'ancount': 4, 'nscount': 0, 'arcount': 0, 'qd': <DNSQR  qname='isc.org.' qtype=NS qclass=IN |>, 'an': <DNSRR  rrname='isc.org.' type=NS rclass=IN ttl=3600 rdlen=None rdata='ns-ext.nrt1.isc.org.' |<DNSRR  rrname='isc.org.' type=NS rclass=IN ttl=3600 rdlen=None rdata='ns-ext.sth1.isc.org.' |<DNSRR  rrname='isc.org.' type=NS rclass=IN ttl=3600 rdlen=None rdata='ns-ext.isc.org.' |<DNSRR  rrname='isc.org.' type=NS rclass=IN ttl=3600 rdlen=None rdata='ns-ext.lga1.isc.org.' |>>>>, 'ns': None, 'ar': None}\n33\n{'length': None, 'id': 12910, 'qr': 1, 'opcode': 0, 'aa': 1, 'tc': 0, 'rd': 1, 'ra': 1, 'z': 0, 'ad': 0, 'cd': 0, 'rcode': 3, 'qdcount': 1, 'ancount': 0, 'nscount': 0, 'arcount': 0, 'qd': <DNSQR  qname='_ldap._tcp.Default-First-Site-Name._sites.dc._msdcs.utelsystems.local.' qtype=SRV qclass=IN |>, 'an': None, 'ns': None, 'ar': None}\n33\n{'length': None, 'id': 61793, 'qr': 0, 'opcode': 0, 'aa': 0, 'tc': 0, 'rd': 1, 'ra': 0, 'z': 0, 'ad': 0, 'cd': 0, 'rcode': 0, 'qdcount': 1, 'ancount': 0, 'nscount': 0, 'arcount': 0, 'qd': <DNSQR  qname='_ldap._tcp.dc._msdcs.utelsystems.local.' qtype=SRV qclass=IN |>, 'an': None, 'ns': None, 'ar': None}\n33\n{'length': None, 'id': 61793, 'qr': 1, 'opcode': 0, 'aa': 1, 'tc': 0, 'rd': 1, 'ra': 1, 'z': 0, 'ad': 0, 'cd': 0, 'rcode': 3, 'qdcount': 1, 'ancount': 0, 'nscount': 0, 'arcount': 0, 'qd': <DNSQR  qname='_ldap._tcp.dc._msdcs.utelsystems.local.' qtype=SRV qclass=IN |>, 'an': None, 'ns': None, 'ar': None}\n33\n{'length': None, 'id': 33633, 'qr': 0, 'opcode': 0, 'aa': 0, 'tc': 0, 'rd': 1, 'ra': 0, 'z': 0, 'ad': 0, 'cd': 0, 'rcode': 0, 'qdcount': 1, 'ancount': 0, 'nscount': 0, 'arcount': 0, 'qd': <DNSQR  qname='_ldap._tcp.05b5292b-34b8-4fb7-85a3-8beef5fd2069.domains._msdcs.utelsystems.local.' qtype=SRV qclass=IN |>, 'an': None, 'ns': None, 'ar': None}\n33\n{'length': None, 'id': 33633, 'qr': 1, 'opcode': 0, 'aa': 1, 'tc': 0, 'rd': 1, 'ra': 1, 'z': 0, 'ad': 0, 'cd': 0, 'rcode': 3, 'qdcount': 1, 'ancount': 0, 'nscount': 0, 'arcount': 0, 'qd': <DNSQR  qname='_ldap._tcp.05b5292b-34b8-4fb7-85a3-8beef5fd2069.domains._msdcs.utelsystems.local.' qtype=SRV qclass=IN |>, 'an': None, 'ns': None, 'ar': None}\n1\n{'length': None, 'id': 53344, 'qr': 0, 'opcode': 0, 'aa': 0, 'tc': 0, 'rd': 1, 'ra': 0, 'z': 0, 'ad': 0, 'cd': 0, 'rcode': 0, 'qdcount': 1, 'ancount': 0, 'nscount': 0, 'arcount': 0, 'qd': <DNSQR  qname='GRIMM.utelsystems.local.' qtype=A qclass=IN |>, 'an': None, 'ns': None, 'ar': None}\n1\n{'length': None, 'id': 53344, 'qr': 1, 'opcode': 0, 'aa': 1, 'tc': 0, 'rd': 1, 'ra': 1, 'z': 0, 'ad': 0, 'cd': 0, 'rcode': 3, 'qdcount': 1, 'ancount': 0, 'nscount': 0, 'arcount': 0, 'qd': <DNSQR  qname='GRIMM.utelsystems.local.' qtype=A qclass=IN |>, 'an': None, 'ns': None, 'ar': None}\n1\n{'length': None, 'id': 30307, 'qr': 0, 'opcode': 0, 'aa': 0, 'tc': 0, 'rd': 1, 'ra': 0, 'z': 0, 'ad': 0, 'cd': 0, 'rcode': 0, 'qdcount': 1, 'ancount': 0, 'nscount': 0, 'arcount': 0, 'qd': <DNSQR  qname='GRIMM.utelsystems.local.' qtype=A qclass=IN |>, 'an': None, 'ns': None, 'ar': None}\n1\n{'length': None, 'id': 30307, 'qr': 1, 'opcode': 0, 'aa': 1, 'tc': 0, 'rd': 1, 'ra': 1, 'z': 0, 'ad': 0, 'cd': 0, 'rcode': 3, 'qdcount': 1, 'ancount': 0, 'nscount': 0, 'arcount': 0, 'qd': <DNSQR  qname='GRIMM.utelsystems.local.' qtype=A qclass=IN |>, 'an': None, 'ns': None, 'ar': None}\n"
     ]
    }
   ],
   "source": [
    "for packet in f:\n",
    "    # print(float(packet.time))\n",
    "    dns_packet = packet['DNS']\n",
    "    dns_query = getattr(dns_packet, 'qd')\n",
    "    print(getattr(dns_query, 'qtype'))\n",
    "    print(dns_packet.fields)"
   ]
  },
  {
   "cell_type": "code",
   "execution_count": 3,
   "metadata": {},
   "outputs": [],
   "source": [
    "dns_query_a = f[8]['DNS']\n",
    "dns_response_a = f[9]['DNS']"
   ]
  },
  {
   "cell_type": "code",
   "execution_count": 36,
   "metadata": {},
   "outputs": [
    {
     "output_type": "stream",
     "name": "stdout",
     "text": [
      "{'length': None, 'id': 30144, 'qr': 0, 'opcode': 0, 'aa': 0, 'tc': 0, 'rd': 1, 'ra': 0, 'z': 0, 'ad': 0, 'cd': 0, 'rcode': 0, 'qdcount': 1, 'ancount': 0, 'nscount': 0, 'arcount': 0, 'qd': <DNSQR  qname='www.netbsd.org.' qtype=A qclass=IN |>, 'an': None, 'ns': None, 'ar': None} {'qname': b'www.netbsd.org.', 'qtype': 1, 'qclass': 1}\n{'length': None, 'id': 30144, 'qr': 1, 'opcode': 0, 'aa': 0, 'tc': 0, 'rd': 1, 'ra': 1, 'z': 0, 'ad': 0, 'cd': 0, 'rcode': 0, 'qdcount': 1, 'ancount': 1, 'nscount': 0, 'arcount': 0, 'qd': <DNSQR  qname='www.netbsd.org.' qtype=A qclass=IN |>, 'an': <DNSRR  rrname='www.netbsd.org.' type=A rclass=IN ttl=82159 rdlen=None rdata=204.152.190.12 |>, 'ns': None, 'ar': None} {'qname': b'www.netbsd.org.', 'qtype': 1, 'qclass': 1}\n{'rrname': b'www.netbsd.org.', 'type': 1, 'rclass': 1, 'ttl': 82159, 'rdlen': None, 'rdata': '204.152.190.12'}\n"
     ]
    }
   ],
   "source": [
    "print(dns_query_a.fields, getattr(dns_query_a, 'qd').fields)\n",
    "print(dns_response_a.fields, getattr(dns_response_a, 'qd').fields)\n",
    "print(getattr(dns_response_a, 'an').fields)"
   ]
  },
  {
   "cell_type": "code",
   "execution_count": 45,
   "metadata": {},
   "outputs": [
    {
     "output_type": "stream",
     "name": "stdout",
     "text": [
      "DNS Query\nlength:None, id:30144, qr:0, opcode:0, aa:0, tc:0, rd:1, ra:0, z:0, ad:0, cd:0, rcode:0, qdcount:1, ancount:0, nscount:0, arcount:0, qd:b'\\x03www\\x06netbsd\\x03org\\x00\\x00\\x01\\x00\\x01', an:None, ns:None, ar:None, "
     ]
    }
   ],
   "source": [
    "print('DNS Query')\n",
    "for key in dns_query_a.fields.keys():\n",
    "    print(f'{key}:{getattr(dns_query_a, key)}', end=', ')"
   ]
  },
  {
   "cell_type": "code",
   "execution_count": 44,
   "metadata": {},
   "outputs": [
    {
     "output_type": "stream",
     "name": "stdout",
     "text": [
      "DNS Response\nlength:None, id:30144, qr:1, opcode:0, aa:0, tc:0, rd:1, ra:1, z:0, ad:0, cd:0, rcode:0, qdcount:1, ancount:1, nscount:0, arcount:0, qd:b'\\x03www\\x06netbsd\\x03org\\x00\\x00\\x01\\x00\\x01', an:b'\\x03www\\x06netbsd\\x03org\\x00\\x00\\x01\\x00\\x01\\x00\\x01@\\xef\\x00\\x04\\xcc\\x98\\xbe\\x0c', ns:None, ar:None, "
     ]
    }
   ],
   "source": [
    "print('DNS Response')\n",
    "for key in dns_response_a.fields.keys():\n",
    "    print(f'{key}:{getattr(dns_response_a, key)}', end=', ')"
   ]
  },
  {
   "cell_type": "code",
   "execution_count": 5,
   "metadata": {},
   "outputs": [],
   "source": [
    "dns_query_a = getattr(dns_query_a, 'qd')"
   ]
  },
  {
   "cell_type": "code",
   "execution_count": 27,
   "metadata": {},
   "outputs": [
    {
     "output_type": "execute_result",
     "data": {
      "text/plain": [
       "'www.netbsd.org.'"
      ]
     },
     "metadata": {},
     "execution_count": 27
    }
   ],
   "source": [
    "type(getattr(dns_query_a, 'qname'))\n",
    "getattr(dns_query_a, 'qname').decode('utf-8')"
   ]
  },
  {
   "cell_type": "code",
   "execution_count": 30,
   "metadata": {},
   "outputs": [
    {
     "output_type": "stream",
     "name": "stdout",
     "text": [
      "{'rrname': b'ogs.google.com.', 'type': 5, 'rclass': 1, 'ttl': 3332, 'rdlen': None, 'rdata': b'www3.l.google.com.'}\n{'length': None, 'id': 478, 'qr': 1, 'opcode': 0, 'aa': 0, 'tc': 0, 'rd': 1, 'ra': 1, 'z': 0, 'ad': 0, 'cd': 0, 'rcode': 0, 'qdcount': 1, 'ancount': 2, 'nscount': 0, 'arcount': 0, 'qd': <DNSQR  qname='ogs.google.com.' qtype=A qclass=IN |>, 'an': <DNSRR  rrname='ogs.google.com.' type=CNAME rclass=IN ttl=3332 rdlen=None rdata='www3.l.google.com.' |<DNSRR  rrname='www3.l.google.com.' type=A rclass=IN ttl=299 rdlen=None rdata=142.250.183.78 |>>, 'ns': None, 'ar': None}\n"
     ]
    }
   ],
   "source": [
    "for packet in f:\n",
    "    if packet.getlayer(3) and packet.getlayer(3).name == 'DNS':\n",
    "        dns_packet = packet.getlayer(3)\n",
    "        if getattr(dns_packet, 'id') == 478:\n",
    "            dns_an = getattr(dns_packet, 'an')\n",
    "            if dns_an:\n",
    "                print(dns_an.fields)\n",
    "                print(dns_packet.fields)"
   ]
  },
  {
   "cell_type": "code",
   "execution_count": 5,
   "metadata": {
    "tags": []
   },
   "outputs": [
    {
     "output_type": "stream",
     "name": "stdout",
     "text": [
      "{'dst': '3c:84:6a:e2:5e:46', 'src': '28:3a:4d:4a:a7:21', 'type': 2048}\n{'dst': '3c:84:6a:e2:5e:46', 'src': '28:3a:4d:4a:a7:21', 'type': 2048}\n{'dst': '28:3a:4d:4a:a7:21', 'src': '3c:84:6a:e2:5e:46', 'type': 2048}\n{'dst': '28:3a:4d:4a:a7:21', 'src': '3c:84:6a:e2:5e:46', 'type': 2048}\n{'dst': '3c:84:6a:e2:5e:46', 'src': '28:3a:4d:4a:a7:21', 'type': 2048}\n{'dst': '28:3a:4d:4a:a7:21', 'src': '3c:84:6a:e2:5e:46', 'type': 2048}\n{'dst': '3c:84:6a:e2:5e:46', 'src': '28:3a:4d:4a:a7:21', 'type': 2048}\n{'dst': '3c:84:6a:e2:5e:46', 'src': '28:3a:4d:4a:a7:21', 'type': 2048}\n{'dst': '28:3a:4d:4a:a7:21', 'src': '3c:84:6a:e2:5e:46', 'type': 2048}\n{'dst': '28:3a:4d:4a:a7:21', 'src': '3c:84:6a:e2:5e:46', 'type': 2048}\n"
     ]
    }
   ],
   "source": [
    "for packet in f[:10]:\n",
    "    print(packet.getlayer(0).fields)"
   ]
  },
  {
   "source": [
    "## ICMP Stuff "
   ],
   "cell_type": "markdown",
   "metadata": {}
  },
  {
   "cell_type": "code",
   "execution_count": 2,
   "metadata": {},
   "outputs": [],
   "source": [
    "packets = rdpcap('../samples/icmp.pcap')"
   ]
  },
  {
   "cell_type": "code",
   "execution_count": 8,
   "metadata": {},
   "outputs": [
    {
     "output_type": "stream",
     "name": "stdout",
     "text": [
      "{'type': 8, 'code': 0, 'chksum': 59492, 'id': 1, 'seq': 1, 'ts_ori': None, 'ts_rx': None, 'ts_tx': None, 'gw': None, 'ptr': None, 'reserved': None, 'length': None, 'addr_mask': None, 'nexthopmtu': None, 'unused': None}\n1616591107.220834\nTrue\n{'type': 0, 'code': 0, 'chksum': 61540, 'id': 1, 'seq': 1, 'ts_ori': None, 'ts_rx': None, 'ts_tx': None, 'gw': None, 'ptr': None, 'reserved': None, 'length': None, 'addr_mask': None, 'nexthopmtu': None, 'unused': None}\n1616591107.221228\nFalse\n{'type': 8, 'code': 0, 'chksum': 40286, 'id': 1, 'seq': 2, 'ts_ori': None, 'ts_rx': None, 'ts_tx': None, 'gw': None, 'ptr': None, 'reserved': None, 'length': None, 'addr_mask': None, 'nexthopmtu': None, 'unused': None}\n1616591107.221512\nTrue\n{'type': 0, 'code': 0, 'chksum': 42334, 'id': 1, 'seq': 2, 'ts_ori': None, 'ts_rx': None, 'ts_tx': None, 'gw': None, 'ptr': None, 'reserved': None, 'length': None, 'addr_mask': None, 'nexthopmtu': None, 'unused': None}\n1616591107.2217686\nFalse\n{'type': 8, 'code': 0, 'chksum': 46935, 'id': 1, 'seq': 3, 'ts_ori': None, 'ts_rx': None, 'ts_tx': None, 'gw': None, 'ptr': None, 'reserved': None, 'length': None, 'addr_mask': None, 'nexthopmtu': None, 'unused': None}\n1616591107.2220197\nTrue\n{'type': 0, 'code': 0, 'chksum': 48983, 'id': 1, 'seq': 3, 'ts_ori': None, 'ts_rx': None, 'ts_tx': None, 'gw': None, 'ptr': None, 'reserved': None, 'length': None, 'addr_mask': None, 'nexthopmtu': None, 'unused': None}\n1616591107.222271\nFalse\n{'type': 8, 'code': 0, 'chksum': 17998, 'id': 1, 'seq': 4, 'ts_ori': None, 'ts_rx': None, 'ts_tx': None, 'gw': None, 'ptr': None, 'reserved': None, 'length': None, 'addr_mask': None, 'nexthopmtu': None, 'unused': None}\n1616591107.2228565\nTrue\n{'type': 0, 'code': 0, 'chksum': 20046, 'id': 1, 'seq': 4, 'ts_ori': None, 'ts_rx': None, 'ts_tx': None, 'gw': None, 'ptr': None, 'reserved': None, 'length': None, 'addr_mask': None, 'nexthopmtu': None, 'unused': None}\n1616591107.2231328\nFalse\n{'type': 8, 'code': 0, 'chksum': 24135, 'id': 1, 'seq': 5, 'ts_ori': None, 'ts_rx': None, 'ts_tx': None, 'gw': None, 'ptr': None, 'reserved': None, 'length': None, 'addr_mask': None, 'nexthopmtu': None, 'unused': None}\n1616591107.223686\nTrue\n{'type': 0, 'code': 0, 'chksum': 26183, 'id': 1, 'seq': 5, 'ts_ori': None, 'ts_rx': None, 'ts_tx': None, 'gw': None, 'ptr': None, 'reserved': None, 'length': None, 'addr_mask': None, 'nexthopmtu': None, 'unused': None}\n1616591107.2239406\nFalse\n{'type': 8, 'code': 0, 'chksum': 6831, 'id': 2, 'seq': 1, 'ts_ori': None, 'ts_rx': None, 'ts_tx': None, 'gw': None, 'ptr': None, 'reserved': None, 'length': None, 'addr_mask': None, 'nexthopmtu': None, 'unused': None}\n1616591107.2879329\nTrue\n{'type': 0, 'code': 0, 'chksum': 8879, 'id': 2, 'seq': 1, 'ts_ori': None, 'ts_rx': None, 'ts_tx': None, 'gw': None, 'ptr': None, 'reserved': None, 'length': None, 'addr_mask': None, 'nexthopmtu': None, 'unused': None}\n1616591107.28821\nFalse\n{'type': 8, 'code': 0, 'chksum': 41894, 'id': 2, 'seq': 2, 'ts_ori': None, 'ts_rx': None, 'ts_tx': None, 'gw': None, 'ptr': None, 'reserved': None, 'length': None, 'addr_mask': None, 'nexthopmtu': None, 'unused': None}\n1616591107.28847\nTrue\n{'type': 0, 'code': 0, 'chksum': 43942, 'id': 2, 'seq': 2, 'ts_ori': None, 'ts_rx': None, 'ts_tx': None, 'gw': None, 'ptr': None, 'reserved': None, 'length': None, 'addr_mask': None, 'nexthopmtu': None, 'unused': None}\n1616591107.2887266\nFalse\n{'type': 8, 'code': 0, 'chksum': 42397, 'id': 2, 'seq': 3, 'ts_ori': None, 'ts_rx': None, 'ts_tx': None, 'gw': None, 'ptr': None, 'reserved': None, 'length': None, 'addr_mask': None, 'nexthopmtu': None, 'unused': None}\n1616591107.2894185\nTrue\n{'type': 0, 'code': 0, 'chksum': 44445, 'id': 2, 'seq': 3, 'ts_ori': None, 'ts_rx': None, 'ts_tx': None, 'gw': None, 'ptr': None, 'reserved': None, 'length': None, 'addr_mask': None, 'nexthopmtu': None, 'unused': None}\n1616591107.2897582\nFalse\n{'type': 8, 'code': 0, 'chksum': 53911, 'id': 2, 'seq': 4, 'ts_ori': None, 'ts_rx': None, 'ts_tx': None, 'gw': None, 'ptr': None, 'reserved': None, 'length': None, 'addr_mask': None, 'nexthopmtu': None, 'unused': None}\n1616591107.2900164\nTrue\n{'type': 0, 'code': 0, 'chksum': 55959, 'id': 2, 'seq': 4, 'ts_ori': None, 'ts_rx': None, 'ts_tx': None, 'gw': None, 'ptr': None, 'reserved': None, 'length': None, 'addr_mask': None, 'nexthopmtu': None, 'unused': None}\n1616591107.2902722\nFalse\n{'type': 8, 'code': 0, 'chksum': 44944, 'id': 2, 'seq': 5, 'ts_ori': None, 'ts_rx': None, 'ts_tx': None, 'gw': None, 'ptr': None, 'reserved': None, 'length': None, 'addr_mask': None, 'nexthopmtu': None, 'unused': None}\n1616591107.290524\nTrue\n{'type': 0, 'code': 0, 'chksum': 46992, 'id': 2, 'seq': 5, 'ts_ori': None, 'ts_rx': None, 'ts_tx': None, 'gw': None, 'ptr': None, 'reserved': None, 'length': None, 'addr_mask': None, 'nexthopmtu': None, 'unused': None}\n1616591107.290778\nFalse\n{'type': 8, 'code': 0, 'chksum': 50313, 'id': 2, 'seq': 6, 'ts_ori': None, 'ts_rx': None, 'ts_tx': None, 'gw': None, 'ptr': None, 'reserved': None, 'length': None, 'addr_mask': None, 'nexthopmtu': None, 'unused': None}\n1616591107.2910361\nTrue\n{'type': 0, 'code': 0, 'chksum': 52361, 'id': 2, 'seq': 6, 'ts_ori': None, 'ts_rx': None, 'ts_tx': None, 'gw': None, 'ptr': None, 'reserved': None, 'length': None, 'addr_mask': None, 'nexthopmtu': None, 'unused': None}\n1616591107.291288\nFalse\n{'type': 8, 'code': 0, 'chksum': 62595, 'id': 2, 'seq': 7, 'ts_ori': None, 'ts_rx': None, 'ts_tx': None, 'gw': None, 'ptr': None, 'reserved': None, 'length': None, 'addr_mask': None, 'nexthopmtu': None, 'unused': None}\n1616591107.291541\nTrue\n{'type': 0, 'code': 0, 'chksum': 64643, 'id': 2, 'seq': 7, 'ts_ori': None, 'ts_rx': None, 'ts_tx': None, 'gw': None, 'ptr': None, 'reserved': None, 'length': None, 'addr_mask': None, 'nexthopmtu': None, 'unused': None}\n1616591107.2920115\nFalse\n{'type': 8, 'code': 0, 'chksum': 44849, 'id': 3, 'seq': 1, 'ts_ori': None, 'ts_rx': None, 'ts_tx': None, 'gw': None, 'ptr': None, 'reserved': None, 'length': None, 'addr_mask': None, 'nexthopmtu': None, 'unused': None}\n1616591107.292766\nTrue\n{'type': 0, 'code': 0, 'chksum': 46897, 'id': 3, 'seq': 1, 'ts_ori': None, 'ts_rx': None, 'ts_tx': None, 'gw': None, 'ptr': None, 'reserved': None, 'length': None, 'addr_mask': None, 'nexthopmtu': None, 'unused': None}\n1616591107.2930427\nFalse\n{'type': 8, 'code': 0, 'chksum': 35625, 'id': 3, 'seq': 2, 'ts_ori': None, 'ts_rx': None, 'ts_tx': None, 'gw': None, 'ptr': None, 'reserved': None, 'length': None, 'addr_mask': None, 'nexthopmtu': None, 'unused': None}\n1616591107.2933002\nTrue\n{'type': 0, 'code': 0, 'chksum': 37673, 'id': 3, 'seq': 2, 'ts_ori': None, 'ts_rx': None, 'ts_tx': None, 'gw': None, 'ptr': None, 'reserved': None, 'length': None, 'addr_mask': None, 'nexthopmtu': None, 'unused': None}\n1616591107.2935584\nFalse\n{'type': 8, 'code': 0, 'chksum': 49184, 'id': 3, 'seq': 3, 'ts_ori': None, 'ts_rx': None, 'ts_tx': None, 'gw': None, 'ptr': None, 'reserved': None, 'length': None, 'addr_mask': None, 'nexthopmtu': None, 'unused': None}\n1616591107.2945948\nTrue\n{'type': 0, 'code': 0, 'chksum': 51232, 'id': 3, 'seq': 3, 'ts_ori': None, 'ts_rx': None, 'ts_tx': None, 'gw': None, 'ptr': None, 'reserved': None, 'length': None, 'addr_mask': None, 'nexthopmtu': None, 'unused': None}\n1616591107.2948604\nFalse\n{'type': 8, 'code': 0, 'chksum': 57111, 'id': 3, 'seq': 4, 'ts_ori': None, 'ts_rx': None, 'ts_tx': None, 'gw': None, 'ptr': None, 'reserved': None, 'length': None, 'addr_mask': None, 'nexthopmtu': None, 'unused': None}\n1616591107.2951198\nTrue\n{'type': 0, 'code': 0, 'chksum': 59159, 'id': 3, 'seq': 4, 'ts_ori': None, 'ts_rx': None, 'ts_tx': None, 'gw': None, 'ptr': None, 'reserved': None, 'length': None, 'addr_mask': None, 'nexthopmtu': None, 'unused': None}\n1616591107.2966063\nFalse\n"
     ]
    },
    {
     "output_type": "error",
     "ename": "AttributeError",
     "evalue": "'NoneType' object has no attribute 'name'",
     "traceback": [
      "\u001b[0;31m---------------------------------------------------------------------------\u001b[0m",
      "\u001b[0;31mAttributeError\u001b[0m                            Traceback (most recent call last)",
      "\u001b[0;32m<ipython-input-8-0779f1def1e7>\u001b[0m in \u001b[0;36m<module>\u001b[0;34m\u001b[0m\n\u001b[1;32m      1\u001b[0m \u001b[0;32mfor\u001b[0m \u001b[0mpacket\u001b[0m \u001b[0;32min\u001b[0m \u001b[0mpackets\u001b[0m\u001b[0;34m:\u001b[0m\u001b[0;34m\u001b[0m\u001b[0;34m\u001b[0m\u001b[0m\n\u001b[0;32m----> 2\u001b[0;31m     \u001b[0;32mif\u001b[0m \u001b[0mpacket\u001b[0m\u001b[0;34m.\u001b[0m\u001b[0mgetlayer\u001b[0m\u001b[0;34m(\u001b[0m\u001b[0;36m2\u001b[0m\u001b[0;34m)\u001b[0m\u001b[0;34m.\u001b[0m\u001b[0mname\u001b[0m \u001b[0;34m==\u001b[0m \u001b[0;34m'ICMP'\u001b[0m\u001b[0;34m:\u001b[0m\u001b[0;34m\u001b[0m\u001b[0;34m\u001b[0m\u001b[0m\n\u001b[0m\u001b[1;32m      3\u001b[0m         \u001b[0micmp_packet\u001b[0m \u001b[0;34m=\u001b[0m \u001b[0mpacket\u001b[0m\u001b[0;34m.\u001b[0m\u001b[0mgetlayer\u001b[0m\u001b[0;34m(\u001b[0m\u001b[0;36m2\u001b[0m\u001b[0;34m)\u001b[0m\u001b[0;34m\u001b[0m\u001b[0;34m\u001b[0m\u001b[0m\n\u001b[1;32m      4\u001b[0m         \u001b[0mprint\u001b[0m\u001b[0;34m(\u001b[0m\u001b[0micmp_packet\u001b[0m\u001b[0;34m.\u001b[0m\u001b[0mfields\u001b[0m\u001b[0;34m)\u001b[0m\u001b[0;34m\u001b[0m\u001b[0;34m\u001b[0m\u001b[0m\n\u001b[1;32m      5\u001b[0m         \u001b[0mprint\u001b[0m\u001b[0;34m(\u001b[0m\u001b[0micmp_packet\u001b[0m\u001b[0;34m.\u001b[0m\u001b[0mtime\u001b[0m\u001b[0;34m)\u001b[0m\u001b[0;34m\u001b[0m\u001b[0;34m\u001b[0m\u001b[0m\n",
      "\u001b[0;31mAttributeError\u001b[0m: 'NoneType' object has no attribute 'name'"
     ]
    }
   ],
   "source": [
    "for packet in packets:\n",
    "    if packet.getlayer(2).name == 'ICMP':\n",
    "        icmp_packet = packet.getlayer(2)\n",
    "        print(icmp_packet.fields)\n",
    "        print(icmp_packet.time)\n",
    "        print(getattr(icmp_packet, 'type') == 8)"
   ]
  },
  {
   "source": [
    "## UDP WebRTC Stuff"
   ],
   "cell_type": "markdown",
   "metadata": {}
  },
  {
   "cell_type": "code",
   "execution_count": 2,
   "metadata": {},
   "outputs": [],
   "source": [
    "f = rdpcap('../samples/webrtc_teams.pcap')"
   ]
  },
  {
   "cell_type": "code",
   "execution_count": 10,
   "metadata": {
    "tags": []
   },
   "outputs": [
    {
     "output_type": "stream",
     "name": "stdout",
     "text": [
      "136\n136\n148\n100\n136\n216\n64\n160\n160\n100\n216\n216\n216\n216\n216\n116\n148\n100\n100\n216\n216\n216\n116\n160\n100\n216\n216\n216\n216\n216\n216\n132\n20\n132\n232\n216\n216\n144\n216\n216\n100\n132\n216\n216\n216\n32\n216\n216\n100\n100\n216\n116\n216\n216\n216\n216\n216\n216\n216\n100\n216\n116\n216\n216\n216\n216\n216\n216\n216\n216\n232\n216\n176\n656\n216\n216\n216\n216\n216\n216\n216\n44\n184\n184\n184\n184\n184\n184\n184\n184\n184\n184\n1164\n184\n184\n184\n184\n184\n184\n184\n184\n184\n184\n184\n184\n184\n184\n184\n184\n184\n184\n184\n184\n184\n184\n184\n184\n184\n184\n108\n1164\n184\n68\n100\n184\n184\n184\n184\n184\n184\n184\n184\n184\n184\n184\n"
     ]
    }
   ],
   "source": [
    "for packet in f[349:600]:\n",
    "    if packet.getlayer(2) and packet.getlayer(2).name == 'UDP':\n",
    "        #print(packet['UDP'].fields)\n",
    "        data = getattr(packet.getlayer(3), 'load')\n",
    "        print(len(data))"
   ]
  },
  {
   "source": [
    "## ARP Stuff"
   ],
   "cell_type": "markdown",
   "metadata": {}
  },
  {
   "cell_type": "code",
   "execution_count": 2,
   "metadata": {},
   "outputs": [],
   "source": [
    "f = rdpcap('../samples/arp-storm.pcap')"
   ]
  },
  {
   "cell_type": "code",
   "execution_count": 7,
   "metadata": {
    "tags": []
   },
   "outputs": [
    {
     "output_type": "stream",
     "name": "stdout",
     "text": [
      "ARP\nARP\nARP\nARP\nARP\nARP\nARP\nARP\nARP\nARP\nARP\nARP\nARP\nARP\nARP\nARP\nARP\nARP\nARP\nARP\nARP\nARP\nARP\nARP\nARP\nARP\nARP\nARP\nARP\nARP\nARP\nARP\nARP\nARP\nARP\nARP\nARP\nARP\nARP\nARP\nARP\nARP\nARP\nARP\nARP\nARP\nARP\nARP\nARP\nARP\nARP\nARP\nARP\nARP\nARP\nARP\nARP\nARP\nARP\nARP\nARP\nARP\nARP\nARP\nARP\nARP\nARP\nARP\nARP\nARP\nARP\nARP\nARP\nARP\nARP\nARP\nARP\nARP\nARP\nARP\nARP\nARP\nARP\nARP\nARP\nARP\nARP\nARP\nARP\nARP\nARP\nARP\nARP\nARP\nARP\nARP\nARP\nARP\nARP\nARP\nARP\nARP\nARP\nARP\nARP\nARP\nARP\nARP\nARP\nARP\nARP\nARP\nARP\nARP\nARP\nARP\nARP\nARP\nARP\nARP\nARP\nARP\nARP\nARP\nARP\nARP\nARP\nARP\nARP\nARP\nARP\nARP\nARP\nARP\nARP\nARP\nARP\nARP\nARP\nARP\nARP\nARP\nARP\nARP\nARP\nARP\nARP\nARP\nARP\nARP\nARP\nARP\nARP\nARP\nARP\nARP\nARP\nARP\nARP\nARP\nARP\nARP\nARP\nARP\nARP\nARP\nARP\nARP\nARP\nARP\nARP\nARP\nARP\nARP\nARP\nARP\nARP\nARP\nARP\nARP\nARP\nARP\nARP\nARP\nARP\nARP\nARP\nARP\nARP\nARP\nARP\nARP\nARP\nARP\nARP\nARP\nARP\nARP\nARP\nARP\nARP\nARP\nARP\nARP\nARP\nARP\nARP\nARP\nARP\nARP\nARP\nARP\nARP\nARP\nARP\nARP\nARP\nARP\nARP\nARP\nARP\nARP\nARP\nARP\nARP\nARP\nARP\nARP\nARP\nARP\nARP\nARP\nARP\nARP\nARP\nARP\nARP\nARP\nARP\nARP\nARP\nARP\nARP\nARP\nARP\nARP\nARP\nARP\nARP\nARP\nARP\nARP\nARP\nARP\nARP\nARP\nARP\nARP\nARP\nARP\nARP\nARP\nARP\nARP\nARP\nARP\nARP\nARP\nARP\nARP\nARP\nARP\nARP\nARP\nARP\nARP\nARP\nARP\nARP\nARP\nARP\nARP\nARP\nARP\nARP\nARP\nARP\nARP\nARP\nARP\nARP\nARP\nARP\nARP\nARP\nARP\nARP\nARP\nARP\nARP\nARP\nARP\nARP\nARP\nARP\nARP\nARP\nARP\nARP\nARP\nARP\nARP\nARP\nARP\nARP\nARP\nARP\nARP\nARP\nARP\nARP\nARP\nARP\nARP\nARP\nARP\nARP\nARP\nARP\nARP\nARP\nARP\nARP\nARP\nARP\nARP\nARP\nARP\nARP\nARP\nARP\nARP\nARP\nARP\nARP\nARP\nARP\nARP\nARP\nARP\nARP\nARP\nARP\nARP\nARP\nARP\nARP\nARP\nARP\nARP\nARP\nARP\nARP\nARP\nARP\nARP\nARP\nARP\nARP\nARP\nARP\nARP\nARP\nARP\nARP\nARP\nARP\nARP\nARP\nARP\nARP\nARP\nARP\nARP\nARP\nARP\nARP\nARP\nARP\nARP\nARP\nARP\nARP\nARP\nARP\nARP\nARP\nARP\nARP\nARP\nARP\nARP\nARP\nARP\nARP\nARP\nARP\nARP\nARP\nARP\nARP\nARP\nARP\nARP\nARP\nARP\nARP\nARP\nARP\nARP\nARP\nARP\nARP\nARP\nARP\nARP\nARP\nARP\nARP\nARP\nARP\nARP\nARP\nARP\nARP\nARP\nARP\nARP\nARP\nARP\nARP\nARP\nARP\nARP\nARP\nARP\nARP\nARP\nARP\nARP\nARP\nARP\nARP\nARP\nARP\nARP\nARP\nARP\nARP\nARP\nARP\nARP\nARP\nARP\nARP\nARP\nARP\nARP\nARP\nARP\nARP\nARP\nARP\nARP\nARP\nARP\nARP\nARP\nARP\nARP\nARP\nARP\nARP\nARP\nARP\nARP\nARP\nARP\nARP\nARP\nARP\nARP\nARP\nARP\nARP\nARP\nARP\nARP\nARP\nARP\nARP\nARP\nARP\nARP\nARP\nARP\nARP\nARP\nARP\nARP\nARP\nARP\nARP\nARP\nARP\nARP\nARP\nARP\nARP\nARP\nARP\nARP\nARP\nARP\nARP\nARP\nARP\nARP\nARP\nARP\nARP\nARP\nARP\nARP\nARP\nARP\nARP\nARP\nARP\nARP\nARP\nARP\nARP\nARP\nARP\nARP\nARP\nARP\nARP\nARP\nARP\nARP\nARP\nARP\nARP\nARP\nARP\nARP\nARP\nARP\nARP\nARP\nARP\nARP\nARP\nARP\nARP\nARP\nARP\nARP\nARP\nARP\nARP\nARP\nARP\nARP\nARP\nARP\nARP\nARP\nARP\nARP\nARP\nARP\nARP\nARP\nARP\nARP\nARP\nARP\nARP\nARP\nARP\nARP\nARP\nARP\nARP\nARP\nARP\nARP\nARP\nARP\nARP\nARP\nARP\nARP\nARP\nARP\nARP\nARP\nARP\nARP\nARP\nARP\nARP\nARP\nARP\nARP\nARP\nARP\nARP\nARP\n"
     ]
    }
   ],
   "source": [
    "for packet in f:\n",
    "    print(packet.getlayer(1).name)"
   ]
  },
  {
   "cell_type": "code",
   "execution_count": null,
   "metadata": {},
   "outputs": [],
   "source": []
  }
 ],
 "metadata": {
  "kernelspec": {
   "display_name": "Python 3",
   "language": "python",
   "name": "python3"
  },
  "language_info": {
   "codemirror_mode": {
    "name": "ipython",
    "version": 3
   },
   "file_extension": ".py",
   "mimetype": "text/x-python",
   "name": "python",
   "nbconvert_exporter": "python",
   "pygments_lexer": "ipython3",
   "version": "3.9.2-final"
  }
 },
 "nbformat": 4,
 "nbformat_minor": 5
}