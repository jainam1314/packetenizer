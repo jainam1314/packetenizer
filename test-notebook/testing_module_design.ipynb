{
 "cells": [
  {
   "cell_type": "code",
   "execution_count": 1,
   "id": "copyrighted-service",
   "metadata": {},
   "outputs": [],
   "source": [
    "from scapy.all import *"
   ]
  },
  {
   "cell_type": "code",
   "execution_count": 2,
   "id": "loose-backing",
   "metadata": {},
   "outputs": [
    {
     "data": {
      "text/plain": [
       "scapy.plist.PacketList"
      ]
     },
     "execution_count": 2,
     "metadata": {},
     "output_type": "execute_result"
    }
   ],
   "source": [
    "f = rdpcap('../samples/download.pcap')\n",
    "type(f)"
   ]
  },
  {
   "cell_type": "code",
   "execution_count": 7,
   "id": "dramatic-climate",
   "metadata": {},
   "outputs": [],
   "source": [
    "# Below defines rough implementation\n",
    "\n",
    "class CoreStructure:\n",
    "    core_structure = dict()\n",
    "    raw_scapy_packets = None\n",
    "    \n",
    "    def __init__(self, scapy_packets):\n",
    "        # We are assuming scapy_packets is a perfectly valid scapy packet structure\n",
    "        self.raw_scapy_packets = scapy_packets\n",
    "        \n",
    "    def start(self):\n",
    "        for packet in self.raw_scapy_packets[:50]:\n",
    "            l3 = ''\n",
    "            l4 = ''\n",
    "            s_ip_addr = None\n",
    "            d_ip_addr = None\n",
    "            s_port = None\n",
    "            d_port = None\n",
    "            if packet.getlayer(1).name == 'IP':\n",
    "                l3 = 'IPv4'\n",
    "                s_ip_addr = packet.getlayer(1).src\n",
    "                d_ip_addr = packet.getlayer(1).dst\n",
    "                if packet.getlayer(2).name and packet.getlayer(2).name == 'TCP':\n",
    "                    l4_packet = packet.getlayer(2) # Storing reference\n",
    "                    l4 = l4_packet.name\n",
    "                    s_port = getattr(l4_packet, 'sport')\n",
    "                    d_port = getattr(l4_packet, 'dport')\n",
    "                    s_socket = f'{s_ip_addr}:{s_port}'\n",
    "                    d_socket = f'{d_ip_addr}:{d_port}'\n",
    "                    # Check if the particular entry exists\n",
    "                    if not (s_socket, d_socket) in self.core_structure:\n",
    "                        # Remember src dest will be reversed in packet but\n",
    "                        # the actual connection is still the same\n",
    "                        # So we are checking if the reverse tuple exists\n",
    "                        if not (d_socket, s_socket) in self.core_structure:\n",
    "                            # If not create a new\n",
    "                            self.core_structure[(s_socket, d_socket)] = {\n",
    "                                \"l2_proto\": packet.name,\n",
    "                                \"l3_proto\": l3,\n",
    "                                \"l4_proto\": l4_packet.name,\n",
    "                                \"seq\": getattr(l4_packet, 'seq'),\n",
    "                                \"up_data\": 0,\n",
    "                                \"down_data\": 0\n",
    "                            }\n",
    "                        else:\n",
    "                            # This is a reverse scenario, so we will have to swap the src dest\n",
    "                            # THIS IS A TEMPORARY FIX\n",
    "                            s_port, d_port = d_port, s_port\n",
    "                            s_ip_addr, d_ip_addr = d_ip_addr, s_ip_addr\n",
    "                            s_socket, d_socket = d_socket, s_socket\n",
    "                    else:\n",
    "                        current_entry = self.core_structure[(s_socket, d_socket)] # Storing reference\n",
    "                        print(current_entry)\n",
    "                        # I am not sure if the below statement will produce correct results\n",
    "                        # So for now this exists and \"kinda\" works but shouldn't be assumed final\n",
    "                        current_entry[\"up_data\"] += getattr(l4_packet, 'seq') - current_entry[\"seq\"]\n",
    "                        # Update\n",
    "                        current_entry[\"seq\"] = getattr(l4_packet, 'seq')"
   ]
  },
  {
   "cell_type": "code",
   "execution_count": 8,
   "id": "checked-voluntary",
   "metadata": {},
   "outputs": [],
   "source": [
    "core_struct = CoreStructure(f)"
   ]
  },
  {
   "cell_type": "code",
   "execution_count": 9,
   "id": "informal-carter",
   "metadata": {},
   "outputs": [
    {
     "name": "stdout",
     "output_type": "stream",
     "text": [
      "{'l2_proto': 'Ethernet', 'l3_proto': 'IPv4', 'l4_proto': 'TCP', 'seq': 3495802807, 'up_data': 0, 'down_data': 0}\n",
      "{'l2_proto': 'Ethernet', 'l3_proto': 'IPv4', 'l4_proto': 'TCP', 'seq': 3495802808, 'up_data': 1, 'down_data': 0}\n",
      "{'l2_proto': 'Ethernet', 'l3_proto': 'IPv4', 'l4_proto': 'TCP', 'seq': 442586608, 'up_data': 0, 'down_data': 0}\n",
      "{'l2_proto': 'Ethernet', 'l3_proto': 'IPv4', 'l4_proto': 'TCP', 'seq': 3495802808, 'up_data': 1, 'down_data': 0}\n",
      "{'l2_proto': 'Ethernet', 'l3_proto': 'IPv4', 'l4_proto': 'TCP', 'seq': 1338928663, 'up_data': 0, 'down_data': 0}\n",
      "{'l2_proto': 'Ethernet', 'l3_proto': 'IPv4', 'l4_proto': 'TCP', 'seq': 4045689038, 'up_data': 0, 'down_data': 0}\n",
      "{'l2_proto': 'Ethernet', 'l3_proto': 'IPv4', 'l4_proto': 'TCP', 'seq': 1338928664, 'up_data': 1, 'down_data': 0}\n",
      "{'l2_proto': 'Ethernet', 'l3_proto': 'IPv4', 'l4_proto': 'TCP', 'seq': 4045689039, 'up_data': 1, 'down_data': 0}\n",
      "{'l2_proto': 'Ethernet', 'l3_proto': 'IPv4', 'l4_proto': 'TCP', 'seq': 1338928664, 'up_data': 1, 'down_data': 0}\n",
      "{'l2_proto': 'Ethernet', 'l3_proto': 'IPv4', 'l4_proto': 'TCP', 'seq': 1338929181, 'up_data': 518, 'down_data': 0}\n",
      "{'l2_proto': 'Ethernet', 'l3_proto': 'IPv4', 'l4_proto': 'TCP', 'seq': 1338929181, 'up_data': 518, 'down_data': 0}\n",
      "{'l2_proto': 'Ethernet', 'l3_proto': 'IPv4', 'l4_proto': 'TCP', 'seq': 4045689039, 'up_data': 1, 'down_data': 0}\n"
     ]
    }
   ],
   "source": [
    "core_struct.start()"
   ]
  },
  {
   "cell_type": "code",
   "execution_count": 10,
   "id": "incorporate-thomas",
   "metadata": {},
   "outputs": [
    {
     "name": "stdout",
     "output_type": "stream",
     "text": [
      "{('192.168.0.104:36026', '172.67.216.140:443'): {'l2_proto': 'Ethernet', 'l3_proto': 'IPv4', 'l4_proto': 'TCP', 'seq': 2540327016, 'up_data': 0, 'down_data': 0}, ('192.168.0.104:54960', '104.17.32.82:443'): {'l2_proto': 'Ethernet', 'l3_proto': 'IPv4', 'l4_proto': 'TCP', 'seq': 740875834, 'up_data': 0, 'down_data': 0}, ('192.168.0.104:60028', '185.199.110.153:80'): {'l2_proto': 'Ethernet', 'l3_proto': 'IPv4', 'l4_proto': 'TCP', 'seq': 3495803229, 'up_data': 422, 'down_data': 0}, ('192.168.0.104:60030', '185.199.110.153:80'): {'l2_proto': 'Ethernet', 'l3_proto': 'IPv4', 'l4_proto': 'TCP', 'seq': 442586609, 'up_data': 1, 'down_data': 0}, ('192.168.0.104:34690', '185.199.108.153:443'): {'l2_proto': 'Ethernet', 'l3_proto': 'IPv4', 'l4_proto': 'TCP', 'seq': 1338929181, 'up_data': 518, 'down_data': 0}, ('192.168.0.104:34692', '185.199.108.153:443'): {'l2_proto': 'Ethernet', 'l3_proto': 'IPv4', 'l4_proto': 'TCP', 'seq': 4045689556, 'up_data': 518, 'down_data': 0}}\n"
     ]
    }
   ],
   "source": [
    "print(core_struct.core_structure)"
   ]
  },
  {
   "cell_type": "markdown",
   "id": "exact-ownership",
   "metadata": {},
   "source": [
    "## Good enough so far 😄"
   ]
  },
  {
   "cell_type": "code",
   "execution_count": 7,
   "id": "peripheral-deposit",
   "metadata": {},
   "outputs": [],
   "source": [
    "f = rdpcap('../samples/download_tcp_problem.pcap')"
   ]
  },
  {
   "cell_type": "code",
   "execution_count": 8,
   "metadata": {},
   "outputs": [
    {
     "output_type": "stream",
     "name": "stdout",
     "text": [
      "DF DF DF DF DF DF DF DF DF DF DF DF DF DF DF DF DF "
     ]
    }
   ],
   "source": [
    "for packet in f:\n",
    "    print(getattr(packet, 'flags'), end=' ')"
   ]
  },
  {
   "cell_type": "code",
   "execution_count": 9,
   "metadata": {},
   "outputs": [
    {
     "output_type": "stream",
     "name": "stdout",
     "text": [
      "S\nSA\nA\nPA\nA\nA\nA\nA\nA\nPA\nA\nPA\nFA\nPA\nR\nFA\nR\n"
     ]
    }
   ],
   "source": [
    "for packet in f:\n",
    "    print(packet['TCP'].flags)"
   ]
  },
  {
   "cell_type": "code",
   "execution_count": null,
   "metadata": {},
   "outputs": [],
   "source": []
  }
 ],
 "metadata": {
  "kernelspec": {
   "display_name": "Python 3",
   "language": "python",
   "name": "python3"
  },
  "language_info": {
   "codemirror_mode": {
    "name": "ipython",
    "version": 3
   },
   "file_extension": ".py",
   "mimetype": "text/x-python",
   "name": "python",
   "nbconvert_exporter": "python",
   "pygments_lexer": "ipython3",
   "version": "3.9.2-final"
  }
 },
 "nbformat": 4,
 "nbformat_minor": 5
}